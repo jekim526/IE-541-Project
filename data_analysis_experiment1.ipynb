{
 "cells": [
  {
   "cell_type": "code",
   "execution_count": null,
   "metadata": {
    "collapsed": true
   },
   "outputs": [],
   "source": [
    "import os\n",
    "import sys\n",
    "import time\n",
    "import numpy as np\n",
    "import pandas as pd\n",
    "import matplotlib as plt\n",
    "sys.path.append(\"..\")\n",
    "result_dir = \"outputs/best_result/\"\n",
    "results = os.listdir(result_dir)\n",
    "# st = time.time()\n",
    "result_list = []\n",
    "col = [\"instance_name\", \"knapsack_num\", \"objf\", \"objValue\",\"GA_method\",\"run_time\",\"run_generation\"]\n",
    "for file in results:\n",
    "    df = pd.read_csv(result_dir + file, header=0, index_col=0)\n",
    "    result_list.append(df)\n",
    "df_all_data = pd.concat(result_list,axis=1)\n",
    "df_all_data = df_all_data.T\n",
    "df_all_data.columns = col\n",
    "# et = time.time()\n",
    "# print(st - et)"
   ]
  },
  {
   "cell_type": "code",
   "execution_count": 197,
   "outputs": [],
   "source": [
    "\n",
    "df_all_data['objValue'] = df_all_data['objValue'].astype(float)\n",
    "cut1 = df_all_data[df_all_data[\"GA_method\"] == 'base'].copy(deep=True)\n",
    "cut2 = df_all_data[df_all_data[\"GA_method\"] == 'tugba'].copy(deep=True)\n",
    "cut1 = cut1.reset_index(drop = True)\n",
    "cut2 = cut2.reset_index(drop = True)\n",
    "df_comapredate = cut1.copy(deep=True)\n",
    "df_comapredate[\"objValue\"] = (cut2[\"objValue\"]-cut1[\"objValue\"]+0.01)/(cut1[\"objValue\"]+0.01)\n",
    "df_comapredate = df_comapredate.drop(columns = [\"GA_method\",\"run_generation\", \"run_time\"])"
   ],
   "metadata": {
    "collapsed": false
   }
  },
  {
   "cell_type": "code",
   "execution_count": 274,
   "outputs": [
    {
     "data": {
      "text/plain": "       0              1         2         3\n0  items              1  0.052632  0.003509\n1  items              3  0.101754  0.000000\n2  items  (0.5, 0.5, 0)  0.059649  0.003509\n3  items  (0.5, 0, 0.5)  0.059649  0.003509\n4  items  (0.5, 0.5, 0)  0.059649  0.003509",
      "text/html": "<div>\n<style scoped>\n    .dataframe tbody tr th:only-of-type {\n        vertical-align: middle;\n    }\n\n    .dataframe tbody tr th {\n        vertical-align: top;\n    }\n\n    .dataframe thead th {\n        text-align: right;\n    }\n</style>\n<table border=\"1\" class=\"dataframe\">\n  <thead>\n    <tr style=\"text-align: right;\">\n      <th></th>\n      <th>0</th>\n      <th>1</th>\n      <th>2</th>\n      <th>3</th>\n    </tr>\n  </thead>\n  <tbody>\n    <tr>\n      <th>0</th>\n      <td>items</td>\n      <td>1</td>\n      <td>0.052632</td>\n      <td>0.003509</td>\n    </tr>\n    <tr>\n      <th>1</th>\n      <td>items</td>\n      <td>3</td>\n      <td>0.101754</td>\n      <td>0.000000</td>\n    </tr>\n    <tr>\n      <th>2</th>\n      <td>items</td>\n      <td>(0.5, 0.5, 0)</td>\n      <td>0.059649</td>\n      <td>0.003509</td>\n    </tr>\n    <tr>\n      <th>3</th>\n      <td>items</td>\n      <td>(0.5, 0, 0.5)</td>\n      <td>0.059649</td>\n      <td>0.003509</td>\n    </tr>\n    <tr>\n      <th>4</th>\n      <td>items</td>\n      <td>(0.5, 0.5, 0)</td>\n      <td>0.059649</td>\n      <td>0.003509</td>\n    </tr>\n  </tbody>\n</table>\n</div>"
     },
     "execution_count": 274,
     "metadata": {},
     "output_type": "execute_result"
    }
   ],
   "source": [
    "# compare between instances according to items number\n",
    "log = []\n",
    "comp_data = df_comapredate[df_comapredate['instance_name'].str.contains('Z_r_300_')]\n",
    "objfs = [\"1\",\"3\",\"(0.5, 0.5, 0)\", \"(0.5, 0, 0.5)\", \"(0.5, 0.5, 0)\"]\n",
    "for objf in objfs:\n",
    "    value1 = sum((comp_data[\"objf\"] == objf) & (comp_data[\"objValue\"]>0.05))/(comp_data[\"objf\"] == objf).shape[0]\n",
    "    value2 = sum((comp_data[\"objf\"] == objf) & (comp_data[\"objValue\"]<-0.05))/(comp_data[\"objf\"] == objf).shape[0]\n",
    "    log.append((\"items\", objf, value1, value2))\n",
    "pd.DataFrame(log)"
   ],
   "metadata": {
    "collapsed": false
   }
  },
  {
   "cell_type": "code",
   "execution_count": 269,
   "outputs": [
    {
     "data": {
      "text/plain": "      0              1         2    3\n0  100s              1  0.110000  0.0\n1  100s              3  0.093333  0.0\n2  100s  (0.5, 0.5, 0)  0.136667  0.0\n3  100s  (0.5, 0, 0.5)  0.070000  0.0\n4  100s  (0.5, 0.5, 0)  0.136667  0.0",
      "text/html": "<div>\n<style scoped>\n    .dataframe tbody tr th:only-of-type {\n        vertical-align: middle;\n    }\n\n    .dataframe tbody tr th {\n        vertical-align: top;\n    }\n\n    .dataframe thead th {\n        text-align: right;\n    }\n</style>\n<table border=\"1\" class=\"dataframe\">\n  <thead>\n    <tr style=\"text-align: right;\">\n      <th></th>\n      <th>0</th>\n      <th>1</th>\n      <th>2</th>\n      <th>3</th>\n    </tr>\n  </thead>\n  <tbody>\n    <tr>\n      <th>0</th>\n      <td>100s</td>\n      <td>1</td>\n      <td>0.110000</td>\n      <td>0.0</td>\n    </tr>\n    <tr>\n      <th>1</th>\n      <td>100s</td>\n      <td>3</td>\n      <td>0.093333</td>\n      <td>0.0</td>\n    </tr>\n    <tr>\n      <th>2</th>\n      <td>100s</td>\n      <td>(0.5, 0.5, 0)</td>\n      <td>0.136667</td>\n      <td>0.0</td>\n    </tr>\n    <tr>\n      <th>3</th>\n      <td>100s</td>\n      <td>(0.5, 0, 0.5)</td>\n      <td>0.070000</td>\n      <td>0.0</td>\n    </tr>\n    <tr>\n      <th>4</th>\n      <td>100s</td>\n      <td>(0.5, 0.5, 0)</td>\n      <td>0.136667</td>\n      <td>0.0</td>\n    </tr>\n  </tbody>\n</table>\n</div>"
     },
     "execution_count": 269,
     "metadata": {},
     "output_type": "execute_result"
    }
   ],
   "source": [
    "# compare between instances according to joint values\n",
    "log = []\n",
    "comp_data = df_comapredate[df_comapredate['instance_name'].str.contains('0_100_')]\n",
    "objfs = [\"1\",\"3\",\"(0.5, 0.5, 0)\", \"(0.5, 0, 0.5)\", \"(0.5, 0.5, 0)\"]\n",
    "for objf in objfs:\n",
    "    value1 = sum((comp_data[\"objf\"] == objf) & (comp_data[\"objValue\"]>0.05))/(comp_data[\"objf\"] == objf).shape[0]\n",
    "    value2 = sum((comp_data[\"objf\"] == objf) & (comp_data[\"objValue\"]<-0.05))/(comp_data[\"objf\"] == objf).shape[0]\n",
    "    log.append((\"dense\", objf, value1, value2))\n",
    "pd.DataFrame(log)"
   ],
   "metadata": {
    "collapsed": false
   }
  },
  {
   "cell_type": "code",
   "execution_count": 277,
   "outputs": [
    {
     "data": {
      "text/plain": "                0              1         2         3\n0  total_negative              1  0.056463  0.022449\n1  total_negative              3  0.075510  0.011565\n2  total_negative  (0.5, 0.5, 0)  0.066667  0.021769\n3  total_negative  (0.5, 0, 0.5)  0.044898  0.016327\n4  total_negative  (0.5, 0.5, 0)  0.066667  0.021769",
      "text/html": "<div>\n<style scoped>\n    .dataframe tbody tr th:only-of-type {\n        vertical-align: middle;\n    }\n\n    .dataframe tbody tr th {\n        vertical-align: top;\n    }\n\n    .dataframe thead th {\n        text-align: right;\n    }\n</style>\n<table border=\"1\" class=\"dataframe\">\n  <thead>\n    <tr style=\"text-align: right;\">\n      <th></th>\n      <th>0</th>\n      <th>1</th>\n      <th>2</th>\n      <th>3</th>\n    </tr>\n  </thead>\n  <tbody>\n    <tr>\n      <th>0</th>\n      <td>total_negative</td>\n      <td>1</td>\n      <td>0.056463</td>\n      <td>0.022449</td>\n    </tr>\n    <tr>\n      <th>1</th>\n      <td>total_negative</td>\n      <td>3</td>\n      <td>0.075510</td>\n      <td>0.011565</td>\n    </tr>\n    <tr>\n      <th>2</th>\n      <td>total_negative</td>\n      <td>(0.5, 0.5, 0)</td>\n      <td>0.066667</td>\n      <td>0.021769</td>\n    </tr>\n    <tr>\n      <th>3</th>\n      <td>total_negative</td>\n      <td>(0.5, 0, 0.5)</td>\n      <td>0.044898</td>\n      <td>0.016327</td>\n    </tr>\n    <tr>\n      <th>4</th>\n      <td>total_negative</td>\n      <td>(0.5, 0.5, 0)</td>\n      <td>0.066667</td>\n      <td>0.021769</td>\n    </tr>\n  </tbody>\n</table>\n</div>"
     },
     "execution_count": 277,
     "metadata": {},
     "output_type": "execute_result"
    }
   ],
   "source": [
    "log = []\n",
    "objfs = [\"1\",\"3\",\"(0.5, 0.5, 0)\", \"(0.5, 0, 0.5)\", \"(0.5, 0.5, 0)\"]\n",
    "for objf in objfs:\n",
    "    value1 = sum((df_comapredate[\"objf\"] == objf) & (df_comapredate[\"objValue\"]>0.05))/(df_comapredate[\"objf\"] == objf).shape[0]\n",
    "    value2 = sum((df_comapredate[\"objf\"] == objf) & (df_comapredate[\"objValue\"]<-0.05))/(df_comapredate[\"objf\"] == objf).shape[0]\n",
    "    log.append((\"total_negative\", objf, value1, value2))\n",
    "pd.DataFrame(log)"
   ],
   "metadata": {
    "collapsed": false
   }
  },
  {
   "cell_type": "code",
   "execution_count": 273,
   "outputs": [
    {
     "data": {
      "text/plain": "           0              1         2         3\n0  knapsacks              1  0.089796  0.026531\n1  knapsacks              3  0.140816  0.010204\n2  knapsacks  (0.5, 0.5, 0)  0.095918  0.036735\n3  knapsacks  (0.5, 0, 0.5)  0.095918  0.016327\n4  knapsacks  (0.5, 0.5, 0)  0.095918  0.036735",
      "text/html": "<div>\n<style scoped>\n    .dataframe tbody tr th:only-of-type {\n        vertical-align: middle;\n    }\n\n    .dataframe tbody tr th {\n        vertical-align: top;\n    }\n\n    .dataframe thead th {\n        text-align: right;\n    }\n</style>\n<table border=\"1\" class=\"dataframe\">\n  <thead>\n    <tr style=\"text-align: right;\">\n      <th></th>\n      <th>0</th>\n      <th>1</th>\n      <th>2</th>\n      <th>3</th>\n    </tr>\n  </thead>\n  <tbody>\n    <tr>\n      <th>0</th>\n      <td>knapsacks</td>\n      <td>1</td>\n      <td>0.089796</td>\n      <td>0.026531</td>\n    </tr>\n    <tr>\n      <th>1</th>\n      <td>knapsacks</td>\n      <td>3</td>\n      <td>0.140816</td>\n      <td>0.010204</td>\n    </tr>\n    <tr>\n      <th>2</th>\n      <td>knapsacks</td>\n      <td>(0.5, 0.5, 0)</td>\n      <td>0.095918</td>\n      <td>0.036735</td>\n    </tr>\n    <tr>\n      <th>3</th>\n      <td>knapsacks</td>\n      <td>(0.5, 0, 0.5)</td>\n      <td>0.095918</td>\n      <td>0.016327</td>\n    </tr>\n    <tr>\n      <th>4</th>\n      <td>knapsacks</td>\n      <td>(0.5, 0.5, 0)</td>\n      <td>0.095918</td>\n      <td>0.036735</td>\n    </tr>\n  </tbody>\n</table>\n</div>"
     },
     "execution_count": 273,
     "metadata": {},
     "output_type": "execute_result"
    }
   ],
   "source": [
    "# compare between instances according to knapsack number\n",
    "log = []\n",
    "comp_data = df_comapredate[df_comapredate['knapsack_num']==\"10\"]\n",
    "objfs = [\"1\",\"3\",\"(0.5, 0.5, 0)\", \"(0.5, 0, 0.5)\", \"(0.5, 0.5, 0)\"]\n",
    "for objf in objfs:\n",
    "    value1 = sum((comp_data[\"objf\"] == objf) & (comp_data[\"objValue\"]>0.05))/(comp_data[\"objf\"] == objf).shape[0]\n",
    "    value2 = sum((comp_data[\"objf\"] == objf) & (comp_data[\"objValue\"]<-0.05))/(comp_data[\"objf\"] == objf).shape[0]\n",
    "    log.append((\"knapsacks\", objf, value1, value2))\n",
    "pd.DataFrame(log)"
   ],
   "metadata": {
    "collapsed": false
   }
  },
  {
   "cell_type": "code",
   "execution_count": 188,
   "outputs": [
    {
     "data": {
      "text/plain": "403"
     },
     "execution_count": 188,
     "metadata": {},
     "output_type": "execute_result"
    }
   ],
   "source": [
    "compare_conditions = [\"100s\",\"25%\",\"3k\"]\n",
    "cond1 = [\"100s\", \"200s\", \"300s\"]\n",
    "cond2 = [\"25\",\"50\",\"75\", \"100\"]\n",
    "cond3 = [\"3k\", \"5k\", \"10k\"]\n",
    "for cc in compare_conditions:\n",
    "    if cc == \"100s\":\n",
    "        cond = cond1\n",
    "    elif cc == \"25%\":\n",
    "        cond = cond2\n",
    "    elif cc == \"3k\":\n",
    "        cond = cond3\n",
    "    cut1 =\n",
    "\n",
    "\n",
    "base_pct = sum((cut2[\"objValue\"]-cut1[\"objValue\"]+0.01)/(cut1[\"objValue\"]+0.01) < -0.02)\n",
    "tugba_pct = sum((cut2[\"objValue\"]-cut1[\"objValue\"]+0.01)/(cut1[\"objValue\"]+0.01) > 0.02)\n",
    "log.append((compare_condition, base_pct, tugaba_pct))"
   ],
   "metadata": {
    "collapsed": false
   }
  },
  {
   "cell_type": "code",
   "execution_count": 189,
   "outputs": [
    {
     "data": {
      "text/plain": "670"
     },
     "execution_count": 189,
     "metadata": {},
     "output_type": "execute_result"
    }
   ],
   "source": [
    "sum((cut2[\"objValue\"]-cut1[\"objValue\"]+0.01)/(cut1[\"objValue\"]+0.01) > 0.02)"
   ],
   "metadata": {
    "collapsed": false
   }
  },
  {
   "cell_type": "code",
   "execution_count": 187,
   "outputs": [
    {
     "data": {
      "text/plain": "(1470, 7)"
     },
     "execution_count": 187,
     "metadata": {},
     "output_type": "execute_result"
    }
   ],
   "source": [
    "cut2.shape[]"
   ],
   "metadata": {
    "collapsed": false
   }
  },
  {
   "cell_type": "code",
   "execution_count": null,
   "outputs": [],
   "source": [
    "df_100 = df_all_data[df_all_data['instance_name'].str.contains('Z_r_100_')].copy()\n",
    "df_200 = df_all_data[df_all_data['instance_name'].str.contains('Z_r_200_')].copy()\n",
    "df_300 = df_all_data[df_all_data['instance_name'].str.contains('Z_r_300_')].copy()"
   ],
   "metadata": {
    "collapsed": false
   }
  },
  {
   "cell_type": "code",
   "execution_count": null,
   "outputs": [],
   "source": [
    "dfdfs = []\n",
    "df_x = df_100   #change here\n",
    "mstr = \"Z_r_100\"\n",
    "for s in [\"25\",\"50\",\"75\",\"100\"]:\n",
    "    strstr = mstr+\"_\"+s\n",
    "    dfdfs.append(df_x[df_x['instance_name'].str.contains(strstr)].copy())"
   ],
   "metadata": {
    "collapsed": false
   }
  },
  {
   "cell_type": "code",
   "execution_count": null,
   "outputs": [],
   "source": [
    "i = 0  #change here\n",
    "sub_df = dfdfs[0]\n"
   ],
   "metadata": {
    "collapsed": false
   }
  },
  {
   "cell_type": "code",
   "execution_count": null,
   "outputs": [],
   "source": [
    "\n"
   ],
   "metadata": {
    "collapsed": false
   }
  }
 ],
 "metadata": {
  "kernelspec": {
   "display_name": "Python 3",
   "language": "python",
   "name": "python3"
  },
  "language_info": {
   "codemirror_mode": {
    "name": "ipython",
    "version": 2
   },
   "file_extension": ".py",
   "mimetype": "text/x-python",
   "name": "python",
   "nbconvert_exporter": "python",
   "pygments_lexer": "ipython2",
   "version": "2.7.6"
  }
 },
 "nbformat": 4,
 "nbformat_minor": 0
}
