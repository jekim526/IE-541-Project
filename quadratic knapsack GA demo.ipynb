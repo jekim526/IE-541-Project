{
  "cells": [
    {
      "cell_type": "markdown",
      "metadata": {
        "id": "view-in-github",
        "colab_type": "text"
      },
      "source": [
        "<a href=\"https://colab.research.google.com/github/jekim526/IE-541-Project/blob/main/quadratic%20knapsack%20GA%20demo.ipynb\" target=\"_parent\"><img src=\"https://colab.research.google.com/assets/colab-badge.svg\" alt=\"Open In Colab\"/></a>"
      ]
    },
    {
      "cell_type": "code",
      "execution_count": 2,
      "outputs": [],
      "source": [
        "# Some more magic so that the notebook will reload external python modules;\n",
        "# see http://stackoverflow.com/questions/1907993/autoreload-of-modules-in-ipython\n",
        "%load_ext autoreload\n",
        "%autoreload 2"
      ],
      "metadata": {
        "id": "h25LyjuVg_6m"
      }
    },
    {
      "cell_type": "code",
      "source": [
        "!pip install deap\n",
        "!git clone https://github.com/jekim526/IE-541-Project.git"
      ],
      "metadata": {
        "id": "Le4FMWPXjtOD"
      },
      "execution_count": null,
      "outputs": []
    },
    {
      "cell_type": "code",
      "execution_count": 13,
      "outputs": [],
      "source": [
        "import numpy as np\n",
        "import sys\n",
        "sys.path.append(\"..\")\n",
        "sys.path.append('/content/IE-541-Project')\n",
        "import knapsack_EA_functions as ea\n",
        "#generate a random instance\n",
        "NUM_ITEMS = 10\n",
        "NUM_KNAPSACK = 2\n",
        "joint_profit = np.triu(np.array(range(1, NUM_ITEMS * NUM_ITEMS + 1)).reshape(NUM_ITEMS, NUM_ITEMS))\n",
        "item_value = np.zeros(NUM_ITEMS)\n",
        "item_weight = np.array(range(1, NUM_ITEMS + 1))\n",
        "capacities = (5,5)"
      ],
      "metadata": {
        "id": "FDT6PcRvg_6n"
      }
    },
    {
      "cell_type": "code",
      "execution_count": 15,
      "outputs": [],
      "source": [
        "# -------  NOTES: ------------------------------------------------------------------------------\n",
        "# instance_setings should be a tuple contains:\n",
        "# {item_value, item_weight, joint_profit, capacities}\n",
        "#                 capacities = {capacity1, capacity2, ...}\n",
        "#\n",
        "# evolution_general_parameters should be a tuple contains:\n",
        "# {popsize, swap_prob, mute_prob}, in which:\n",
        "#    swap_prob is independent probability for swap at each point in uniform crossover.\n",
        "#    mute_prob is independent probability for each attribute to be flipped in flip-bit mutation.\n",
        "#\n",
        "# evolution_specify_parameters should be a tuple contains: {CXPB, MUTPB},In which:\n",
        "#    CXPB is the probability with which two individuals\n",
        "#          are crossed\n",
        "#    MUTPB is the probability for mutating an individual\n",
        "\n",
        "''' An example below: '''\n",
        "#initialize evolution parameter setting\n",
        "evolution_general_parameters = (100, 0.1, 0.1)\n",
        "evolution_specify_parameters = (0.5, 0.25)\n",
        "\n",
        "#initialize instance setting\n",
        "instance_setings = (item_value, item_weight, joint_profit, capacities)"
      ],
      "metadata": {
        "id": "pOXr736qg_6o"
      }
    },
    {
      "cell_type": "code",
      "execution_count": null,
      "outputs": [],
      "source": [
        "''' solve via GA in one line! '''\n",
        "pop, num_gen = ea.perform_GA_base(1, NUM_KNAPSACK, instance_setings, evolution_general_parameters, evolution_specify_parameters, PRINT=True)"
      ],
      "metadata": {
        "id": "--QfZZ_1g_6o"
      }
    },
    {
      "cell_type": "code",
      "source": [
        "joint_profit"
      ],
      "metadata": {
        "id": "YfQ02iU3T54x"
      },
      "execution_count": null,
      "outputs": []
    }
  ],
  "metadata": {
    "kernelspec": {
      "display_name": "Python 3",
      "language": "python",
      "name": "python3"
    },
    "language_info": {
      "codemirror_mode": {
        "name": "ipython",
        "version": 2
      },
      "file_extension": ".py",
      "mimetype": "text/x-python",
      "name": "python",
      "nbconvert_exporter": "python",
      "pygments_lexer": "ipython2",
      "version": "2.7.6"
    },
    "colab": {
      "provenance": [],
      "include_colab_link": true
    }
  },
  "nbformat": 4,
  "nbformat_minor": 0
}