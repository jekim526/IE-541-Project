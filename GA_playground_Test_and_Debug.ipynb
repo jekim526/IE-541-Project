{
 "nbformat": 4,
 "nbformat_minor": 0,
 "metadata": {
  "colab": {
   "provenance": []
  },
  "kernelspec": {
   "name": "python3",
   "display_name": "Python 3"
  },
  "language_info": {
   "name": "python"
  }
 },
 "cells": [
  {
   "cell_type": "markdown",
   "metadata": {
    "id": "view-in-github"
   },
   "source": []
  },
  {
   "cell_type": "markdown",
   "source": [
    "# Initialize\n",
    "Load problem data, install packages"
   ],
   "metadata": {
    "id": "5TOeWB8Y_ead"
   }
  },
  {
   "cell_type": "code",
   "source": [
    "# Some more magic so that the notebook will reload external python modules;\n",
    "# see http://stackoverflow.com/questions/1907993/autoreload-of-modules-in-ipython\n",
    "%load_ext autoreload\n",
    "%autoreload 2\n",
    "\n",
    "# !pip install deap\n",
    "# !git clone https://github.com/jekim526/IE-541-Project.git\n",
    "# !git --git-dir=/content/IE-541-Project/.git pull\n",
    "\n",
    "import pandas as pd\n",
    "import numpy as np\n",
    "import sys\n",
    "sys.path.append(\"..\")\n",
    "sys.path.append('/content/IE-541-Project')\n",
    "import knapsack_EA_functions as ea"
   ],
   "metadata": {
    "colab": {
     "base_uri": "https://localhost:8080/"
    },
    "id": "DSKRw_MfIZQT",
    "outputId": "451ffdac-393f-4b3f-b383-34941a32153d"
   },
   "execution_count": 2,
   "outputs": [
    {
     "name": "stdout",
     "output_type": "stream",
     "text": [
      "The autoreload extension is already loaded. To reload it, use:\n",
      "  %reload_ext autoreload\n"
     ]
    }
   ]
  },
  {
   "cell_type": "code",
   "source": [
    "import pandas as pd\n",
    "import numpy as np\n",
    "import sys\n",
    "sys.path.append(\"..\")\n",
    "sys.path.append('/content/IE-541-Project')\n",
    "import knapsack_EA_functions as ea"
   ],
   "metadata": {
    "id": "yoa7HzECorj5"
   },
   "execution_count": 3,
   "outputs": []
  },
  {
   "cell_type": "code",
   "execution_count": 4,
   "metadata": {
    "id": "6I9Vouek_K7z"
   },
   "outputs": [],
   "source": [
    "url = 'https://raw.githubusercontent.com/jekim526/IE-541-Project/main/data/Z_r_100_25_1.csv' # Get the \"Raw\" link\n",
    "df1_o = pd.read_csv(url)\n",
    "df1 = pd.DataFrame(df1_o).to_numpy() # DataFrame to nummpy array\n",
    "n_size = len(df1) - 1\n",
    "\n",
    "# Array of item value\n",
    "item_value = [0] * n_size\n",
    "for x in range(0,n_size):\n",
    "  item_value[x] = df1[1,x+1]\n",
    "\n",
    "# Array of item weight\n",
    "item_weight = [0] * n_size\n",
    "for x in range(0,n_size):\n",
    "  item_weight[x] = df1[0,x+1]\n",
    "\n",
    "# n x n array of joint profit\n",
    "joint_profit = np.zeros((n_size,n_size))\n",
    "for x in range(0, n_size-1):\n",
    "  for y in range(0, n_size):\n",
    "    joint_profit[x,y] = df1[x+2,y+1]\n",
    "\n",
    "item_weight = np.array(item_weight)\n",
    "item_value = np.array(item_value)"
   ]
  },
  {
   "cell_type": "markdown",
   "source": [
    "## Prepare the GA input and solve the instance via GA"
   ],
   "metadata": {
    "id": "zyYih-zKD6V8"
   }
  },
  {
   "cell_type": "code",
   "source": [
    "# -------  NOTES: ------------------------------------------------------------------------------\n",
    "# instance_setings should be a tuple contains:\n",
    "# {item_value, item_weight, joint_profit, capacities}\n",
    "#                 capacities = {capacity1, capacity2, ...}\n",
    "#\n",
    "# evolution_general_parameters should be a tuple contains:\n",
    "# {popsize, swap_prob, mute_prob, punish_factor}, in which:\n",
    "#    swap_prob is independent probability for swap at each point in uniform crossover.\n",
    "#    mute_prob is independent probability for each attribute to be flipped in flip-bit mutation.\n",
    "#\n",
    "# evolution_specify_parameters should be a tuple contains: {CXPB, MUTPB},In which:\n",
    "#    CXPB is the probability with which two individuals\n",
    "#          are crossed\n",
    "#    MUTPB is the probability for mutating an individual\n",
    "#    MAX_GEN is the maximum generation threshold\n",
    "#    STOP_GEN is the threshold of no progress generations\n",
    "\n",
    "''' the maximize covalue_case '''\n",
    "max_c = 0; max_c = max(max_c,max(np.sum(joint_profit,axis = 1))); max_c = max(max_c,max(np.sum(joint_profit,axis = 0)))\n",
    "max_i = max(item_value)\n",
    "\n",
    "''' prepare this solver inputs: '''\n",
    "#initialize evolution parameter setting\n",
    "evolution_general_parameters = (100, 0.1, 0.1, max_i + max_c)\n",
    "evolution_specify_parameters = (0.5, 0.25, 100, 100)\n",
    "num_of_knapsack = 3\n",
    "capacity = (sum(item_weight)/num_of_knapsack)*0.8 # 80% of the sum of all item weights divided by the number of knapsacks\n",
    "capacities = (capacity,)*num_of_knapsack\n",
    "#initialize instance setting\n",
    "instance_settings = (item_value, item_weight, joint_profit, capacities)"
   ],
   "metadata": {
    "id": "cgbXLxZv_rJK"
   },
   "execution_count": 41,
   "outputs": []
  },
  {
   "cell_type": "code",
   "source": [
    "''' solve via GA in one line! '''\n",
    "#objf_type = 2\n",
    "objf_type = (0.5,0.5,0)\n",
    "#objf_type: \n",
    "# 1: the first objective function (maximum the total profit)\n",
    "# 2: maximum the negative of total_weight\n",
    "# 3: maximum the profit of the package with minmum of profit\n",
    "\n",
    "best_ind,pop,num_gen = ea.perform_GA_base(objf_type, instance_settings, evolution_general_parameters, evolution_specify_parameters, PRINT=False)\n",
    "best_ind.fitness.values"
   ],
   "metadata": {
    "colab": {
     "base_uri": "https://localhost:8080/"
    },
    "id": "_BjGFdl8CHWD",
    "outputId": "81516592-6827-4f28-a66e-0118a7edd361"
   },
   "execution_count": 43,
   "outputs": [
    {
     "name": "stdout",
     "output_type": "stream",
     "text": [
      "bbbcc\n"
     ]
    },
    {
     "data": {
      "text/plain": "(9259.5,)"
     },
     "execution_count": 43,
     "metadata": {},
     "output_type": "execute_result"
    }
   ]
  },
  {
   "cell_type": "code",
   "source": [
    "best_ind"
   ],
   "metadata": {
    "colab": {
     "base_uri": "https://localhost:8080/"
    },
    "id": "s1-vvlFtidJL",
    "outputId": "a716e93a-05fc-489f-cad3-9ec4d7ec6ca3"
   },
   "execution_count": 34,
   "outputs": [
    {
     "data": {
      "text/plain": "Individual([[0, 0, 0, 0, 0],\n            [1, 0, 0, 0, 0],\n            [0, 0, 0, 1, 0],\n            [0, 0, 1, 0, 0],\n            [0, 0, 0, 1, 0],\n            [0, 0, 1, 0, 0],\n            [0, 0, 0, 0, 0],\n            [0, 0, 0, 0, 0],\n            [0, 0, 0, 0, 0],\n            [0, 0, 1, 0, 0],\n            [0, 0, 0, 1, 0],\n            [0, 0, 0, 0, 0],\n            [1, 0, 0, 0, 0],\n            [0, 0, 0, 0, 0],\n            [0, 0, 1, 0, 0],\n            [0, 0, 0, 0, 0],\n            [0, 0, 0, 0, 0],\n            [0, 0, 0, 0, 0],\n            [0, 0, 1, 0, 0],\n            [0, 0, 1, 0, 0],\n            [1, 0, 0, 0, 0],\n            [0, 0, 0, 0, 1],\n            [0, 0, 1, 0, 0],\n            [0, 1, 0, 0, 0],\n            [1, 0, 0, 0, 0],\n            [0, 0, 0, 1, 0],\n            [0, 0, 0, 0, 0],\n            [0, 0, 0, 1, 0],\n            [1, 0, 0, 0, 0],\n            [0, 0, 0, 1, 0],\n            [0, 0, 0, 0, 1],\n            [0, 0, 0, 0, 0],\n            [0, 0, 0, 0, 1],\n            [0, 0, 0, 0, 0],\n            [0, 0, 1, 0, 0],\n            [0, 0, 1, 0, 0],\n            [0, 0, 1, 0, 0],\n            [1, 0, 0, 0, 0],\n            [0, 0, 0, 0, 0],\n            [0, 0, 0, 0, 0],\n            [0, 1, 0, 0, 0],\n            [0, 0, 0, 0, 1],\n            [0, 0, 0, 1, 0],\n            [0, 0, 0, 1, 0],\n            [1, 0, 0, 0, 0],\n            [0, 0, 0, 0, 0],\n            [0, 0, 0, 0, 0],\n            [0, 0, 1, 0, 0],\n            [0, 0, 0, 0, 0],\n            [0, 0, 0, 0, 0],\n            [0, 0, 0, 1, 0],\n            [0, 0, 0, 0, 0],\n            [0, 0, 0, 0, 0],\n            [0, 0, 0, 0, 0],\n            [0, 0, 1, 0, 0],\n            [0, 0, 0, 0, 0],\n            [0, 0, 0, 0, 0],\n            [0, 1, 0, 0, 0],\n            [0, 0, 0, 0, 0],\n            [0, 0, 0, 0, 1],\n            [0, 0, 0, 0, 0],\n            [1, 0, 0, 0, 0],\n            [0, 0, 1, 0, 0],\n            [1, 0, 0, 0, 0],\n            [0, 0, 0, 0, 1],\n            [0, 1, 0, 0, 0],\n            [0, 1, 0, 0, 0],\n            [0, 1, 0, 0, 0],\n            [0, 0, 0, 0, 1],\n            [0, 0, 0, 0, 0],\n            [0, 1, 0, 0, 0],\n            [0, 0, 0, 0, 1],\n            [1, 0, 0, 0, 0],\n            [0, 0, 0, 0, 0],\n            [0, 0, 0, 0, 1],\n            [0, 0, 0, 1, 0],\n            [0, 1, 0, 0, 0],\n            [1, 0, 0, 0, 0],\n            [0, 0, 0, 0, 0],\n            [0, 0, 0, 1, 0],\n            [0, 0, 1, 0, 0],\n            [0, 0, 0, 0, 0],\n            [0, 0, 0, 0, 0],\n            [0, 0, 1, 0, 0],\n            [0, 0, 1, 0, 0],\n            [0, 0, 0, 0, 0],\n            [0, 0, 0, 0, 0],\n            [0, 0, 1, 0, 0],\n            [1, 0, 0, 0, 0],\n            [0, 0, 0, 0, 0],\n            [0, 0, 0, 0, 0],\n            [0, 0, 0, 0, 1],\n            [0, 0, 0, 0, 0],\n            [0, 0, 0, 1, 0],\n            [1, 0, 0, 0, 0],\n            [0, 1, 0, 0, 0],\n            [0, 0, 0, 1, 0],\n            [0, 0, 0, 0, 0],\n            [0, 0, 0, 0, 0],\n            [0, 0, 0, 0, 0]])"
     },
     "execution_count": 34,
     "metadata": {},
     "output_type": "execute_result"
    }
   ]
  },
  {
   "cell_type": "code",
   "source": [
    "evolution_general_parameters = (100, 0.1, 0.1, 200)\n",
    "evolution_specify_parameters = (0.5, 0.25, 200, 100)\n",
    "best_ind,pop,num_gen = ea.perform_GA_base(1, instance_settings, evolution_general_parameters, evolution_specify_parameters, PRINT=False)\n",
    "best_ind.fitness.values"
   ],
   "metadata": {
    "id": "Awz7sYRU_KDj",
    "colab": {
     "base_uri": "https://localhost:8080/"
    },
    "outputId": "eb637c2d-cfaf-4449-b679-1c3ad2cc65f8"
   },
   "execution_count": 5,
   "outputs": [
    {
     "output_type": "stream",
     "name": "stderr",
     "text": [
      "/usr/local/lib/python3.7/dist-packages/deap/creator.py:141: RuntimeWarning: A class named 'FitnessMax' has already been created and it will be overwritten. Consider deleting previous creation of that class or rename it.\n",
      "  RuntimeWarning)\n",
      "/usr/local/lib/python3.7/dist-packages/deap/creator.py:141: RuntimeWarning: A class named 'Individual' has already been created and it will be overwritten. Consider deleting previous creation of that class or rename it.\n",
      "  RuntimeWarning)\n"
     ]
    },
    {
     "output_type": "execute_result",
     "data": {
      "text/plain": [
       "(15025.0,)"
      ]
     },
     "metadata": {},
     "execution_count": 5
    }
   ]
  },
  {
   "cell_type": "code",
   "source": [
    "# def exam_feasibility(individual, instance_settings):\n",
    "#   result = []\n",
    "#   item_weight = instance_settings[1]\n",
    "#   capacities = instance_settings[3]\n",
    "#   for k in range(individual.shape[1]):\n",
    "#     kth_knapsack = individual[:,k]\n",
    "#     weight = np.dot(kth_knapsack, item_weight)\n",
    "#     if weight > capacities[k]:\n",
    "#       result.append(False) ## exceed the weight limitation, infeasible\n",
    "#     else:\n",
    "#       result.append(True) ## feasible\n",
    "#   return result\n",
    "#   # return True means feasible, \n",
    "ea.exam_feasibility(best_ind, instance_settings)    "
   ],
   "metadata": {
    "colab": {
     "base_uri": "https://localhost:8080/"
    },
    "id": "kVlwlKZBkkse",
    "outputId": "e668f513-f0d9-48bf-ac28-da1c5008541e"
   },
   "execution_count": 8,
   "outputs": [
    {
     "output_type": "execute_result",
     "data": {
      "text/plain": [
       "[True, True, True, True, True]"
      ]
     },
     "metadata": {},
     "execution_count": 8
    }
   ]
  },
  {
   "cell_type": "markdown",
   "source": [
    "Since above naive GA amazingly always produce feasibile solution, I want to verify my implementation of `exam_feasibility`. The exam below shows my implementation of `exam_feasibility` is correct."
   ],
   "metadata": {
    "id": "LLFws_fbDLCY"
   }
  },
  {
   "cell_type": "code",
   "source": [
    "def exam_feasibility(individual, item_weight, capacities):\n",
    "  result = []\n",
    "  for k in range(individual.shape[1]):\n",
    "    kth_knapsack = individual[:,k]\n",
    "    weight = np.dot(kth_knapsack, item_weight)\n",
    "    if weight > capacities[k]:\n",
    "      result.append(False) ## exceed the weight limitation, infeasible\n",
    "    else:\n",
    "      result.append(True) ## feasible\n",
    "  return result\n",
    "  # return True means feasible, \n",
    "\n",
    "ind = np.array([[0,0,0],[0,1,0],[1,0,1]]).T # Note: in individual, every column is a decision vector of \n",
    "weight = np.array([20,30,40])\n",
    "caps = (30,30,30)\n",
    "exam_feasibility(ind,weight,caps)"
   ],
   "metadata": {
    "id": "cXClf-nrBQBR"
   },
   "execution_count": null,
   "outputs": []
  },
  {
   "cell_type": "code",
   "source": [
    "#Output the best individual as .csv file\n",
    "import pandas as pd\n",
    "df_best_ind = pd.DataFrame(best_ind.T)\n",
    "df_best_ind.to_csv(\"/content/best_ind.csv\")"
   ],
   "metadata": {
    "id": "11X38nC6KHja"
   },
   "execution_count": null,
   "outputs": []
  }
 ]
}
