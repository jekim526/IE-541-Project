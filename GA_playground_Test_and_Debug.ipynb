{
 "nbformat": 4,
 "nbformat_minor": 0,
 "metadata": {
  "colab": {
   "provenance": []
  },
  "kernelspec": {
   "name": "python3",
   "display_name": "Python 3"
  },
  "language_info": {
   "name": "python"
  }
 },
 "cells": [
  {
   "cell_type": "markdown",
   "metadata": {
    "id": "view-in-github"
   },
   "source": []
  },
  {
   "cell_type": "markdown",
   "source": [
    "# Initialize\n",
    "Load problem data, install packages"
   ],
   "metadata": {
    "id": "5TOeWB8Y_ead"
   }
  },
  {
   "cell_type": "code",
   "source": [
    "# Some more magic so that the notebook will reload external python modules;\n",
    "# see http://stackoverflow.com/questions/1907993/autoreload-of-modules-in-ipython\n",
    "%load_ext autoreload\n",
    "%autoreload 2\n",
    "\n",
    "# !pip install deap\n",
    "# !git clone https://github.com/jekim526/IE-541-Project.git\n",
    "# !git --git-dir=/content/IE-541-Project/.git pull\n",
    "\n",
    "import pandas as pd\n",
    "import numpy as np\n",
    "import sys\n",
    "sys.path.append(\"..\")\n",
    "sys.path.append('/content/IE-541-Project')\n",
    "import knapsack_EA_functions as ea"
   ],
   "metadata": {
    "colab": {
     "base_uri": "https://localhost:8080/"
    },
    "id": "DSKRw_MfIZQT",
    "outputId": "451ffdac-393f-4b3f-b383-34941a32153d"
   },
   "execution_count": 2,
   "outputs": [
    {
     "name": "stdout",
     "output_type": "stream",
     "text": [
      "The autoreload extension is already loaded. To reload it, use:\n",
      "  %reload_ext autoreload\n"
     ]
    }
   ]
  },
  {
   "cell_type": "code",
   "source": [
    "import pandas as pd\n",
    "import numpy as np\n",
    "import sys\n",
    "sys.path.append(\"..\")\n",
    "sys.path.append('/content/IE-541-Project')\n",
    "import knapsack_EA_functions as ea"
   ],
   "metadata": {
    "id": "yoa7HzECorj5"
   },
   "execution_count": 3,
   "outputs": []
  },
  {
   "cell_type": "code",
   "execution_count": 4,
   "metadata": {
    "id": "6I9Vouek_K7z"
   },
   "outputs": [],
   "source": [
    "url = 'https://raw.githubusercontent.com/jekim526/IE-541-Project/main/data/Z_r_100_25_1.csv' # Get the \"Raw\" link\n",
    "df1_o = pd.read_csv(url)\n",
    "df1 = pd.DataFrame(df1_o).to_numpy() # DataFrame to nummpy array\n",
    "n_size = len(df1) - 1\n",
    "\n",
    "# Array of item value\n",
    "item_value = [0] * n_size\n",
    "for x in range(0,n_size):\n",
    "  item_value[x] = df1[1,x+1]\n",
    "\n",
    "# Array of item weight\n",
    "item_weight = [0] * n_size\n",
    "for x in range(0,n_size):\n",
    "  item_weight[x] = df1[0,x+1]\n",
    "\n",
    "# n x n array of joint profit\n",
    "joint_profit = np.zeros((n_size,n_size))\n",
    "for x in range(0, n_size-1):\n",
    "  for y in range(0, n_size):\n",
    "    joint_profit[x,y] = df1[x+2,y+1]\n",
    "\n",
    "item_weight = np.array(item_weight)\n",
    "item_value = np.array(item_value)"
   ]
  },
  {
   "cell_type": "markdown",
   "source": [
    "## Prepare the GA input and solve the instance via GA"
   ],
   "metadata": {
    "id": "zyYih-zKD6V8"
   }
  },
  {
   "cell_type": "code",
   "source": [
    "# -------  NOTES: ------------------------------------------------------------------------------\n",
    "# instance_setings should be a tuple contains:\n",
    "# {item_value, item_weight, joint_profit, capacities}\n",
    "#                 capacities = {capacity1, capacity2, ...}\n",
    "#\n",
    "# evolution_general_parameters should be a tuple contains:\n",
    "# {popsize, swap_prob, mute_prob, punish_factor}, in which:\n",
    "#    swap_prob is independent probability for swap at each point in uniform crossover.\n",
    "#    mute_prob is independent probability for each attribute to be flipped in flip-bit mutation.\n",
    "#\n",
    "# evolution_specify_parameters should be a tuple contains: {CXPB, MUTPB},In which:\n",
    "#    CXPB is the probability with which two individuals\n",
    "#          are crossed\n",
    "#    MUTPB is the probability for mutating an individual\n",
    "#    MAX_GEN is the maximum generation threshold\n",
    "#    STOP_GEN is the threshold of no progress generations\n",
    "\n",
    "''' the maximize covalue_case '''\n",
    "max_c = 0; max_c = max(max_c,max(np.sum(joint_profit,axis = 1))); max_c = max(max_c,max(np.sum(joint_profit,axis = 0)))\n",
    "max_i = max(item_value)\n",
    "\n",
    "''' prepare this solver inputs: '''\n",
    "#initialize evolution parameter setting\n",
    "evolution_general_parameters = (100, 0.1, 0.1, max_i + max_c)\n",
    "evolution_specify_parameters = (0.5, 0.25, 1000, 100)\n",
    "num_of_knapsack = 3\n",
    "capacity = (sum(item_weight)/num_of_knapsack)*0.8 # 80% of the sum of all item weights divided by the number of knapsacks\n",
    "capacities = (capacity,)*num_of_knapsack\n",
    "#initialize instance setting\n",
    "instance_settings = (item_value, item_weight, joint_profit, capacities)"
   ],
   "metadata": {
    "id": "cgbXLxZv_rJK"
   },
   "execution_count": 8,
   "outputs": []
  },
  {
   "cell_type": "code",
   "source": [
    "''' solve via GA in one line! '''\n",
    "objf_type = 2\n",
    "#objf_type = (0.5,0.5,0)\n",
    "#objf_type: \n",
    "# 1: the first objective function (maximum the total profit)\n",
    "# 2: maximum the negative of total_weight\n",
    "# 3: maximum the profit of the package with minmum of profit\n",
    "\n",
    "best_ind,pop,num_gen = ea.perform_GA_base(objf_type, instance_settings, evolution_general_parameters, evolution_specify_parameters, PRINT=False)\n",
    "best_ind.fitness.values\n",
    "best_ind"
   ],
   "metadata": {
    "colab": {
     "base_uri": "https://localhost:8080/"
    },
    "id": "_BjGFdl8CHWD",
    "outputId": "81516592-6827-4f28-a66e-0118a7edd361"
   },
   "execution_count": 9,
   "outputs": [
    {
     "name": "stderr",
     "output_type": "stream",
     "text": [
      "C:\\Users\\Karlz\\anaconda3\\lib\\site-packages\\deap\\creator.py:138: RuntimeWarning: A class named 'FitnessMax' has already been created and it will be overwritten. Consider deleting previous creation of that class or rename it.\n",
      "  warnings.warn(\"A class named '{0}' has already been created and it \"\n",
      "C:\\Users\\Karlz\\anaconda3\\lib\\site-packages\\deap\\creator.py:138: RuntimeWarning: A class named 'Individual' has already been created and it will be overwritten. Consider deleting previous creation of that class or rename it.\n",
      "  warnings.warn(\"A class named '{0}' has already been created and it \"\n"
     ]
    },
    {
     "data": {
      "text/plain": "Individual([[0, 0, 0],\n            [0, 0, 0],\n            [0, 0, 0],\n            [0, 0, 0],\n            [0, 0, 0],\n            [0, 0, 0],\n            [0, 0, 0],\n            [0, 0, 0],\n            [0, 0, 0],\n            [0, 0, 0],\n            [0, 0, 0],\n            [0, 0, 0],\n            [0, 0, 0],\n            [0, 0, 0],\n            [0, 0, 0],\n            [0, 0, 0],\n            [0, 0, 0],\n            [0, 0, 0],\n            [0, 0, 0],\n            [0, 0, 0],\n            [0, 0, 0],\n            [0, 0, 0],\n            [0, 0, 0],\n            [0, 0, 0],\n            [0, 0, 0],\n            [0, 0, 0],\n            [0, 0, 0],\n            [0, 0, 0],\n            [0, 0, 0],\n            [0, 0, 0],\n            [1, 0, 0],\n            [0, 0, 0],\n            [0, 0, 0],\n            [0, 0, 0],\n            [0, 0, 0],\n            [0, 0, 0],\n            [0, 0, 0],\n            [0, 0, 0],\n            [1, 0, 0],\n            [0, 0, 0],\n            [0, 0, 0],\n            [0, 0, 0],\n            [0, 0, 0],\n            [0, 0, 0],\n            [0, 0, 0],\n            [0, 0, 0],\n            [0, 0, 0],\n            [0, 0, 0],\n            [0, 0, 0],\n            [0, 0, 0],\n            [0, 0, 0],\n            [0, 0, 0],\n            [0, 0, 0],\n            [0, 0, 0],\n            [0, 0, 0],\n            [0, 0, 0],\n            [0, 0, 0],\n            [0, 0, 0],\n            [0, 0, 0],\n            [0, 0, 0],\n            [0, 0, 0],\n            [0, 0, 0],\n            [0, 0, 0],\n            [0, 0, 0],\n            [0, 0, 0],\n            [0, 0, 0],\n            [0, 0, 0],\n            [0, 0, 0],\n            [0, 0, 0],\n            [0, 0, 0],\n            [0, 0, 0],\n            [0, 0, 0],\n            [0, 0, 0],\n            [0, 0, 0],\n            [0, 0, 0],\n            [0, 0, 0],\n            [0, 0, 0],\n            [0, 0, 0],\n            [0, 0, 0],\n            [0, 0, 0],\n            [0, 0, 0],\n            [0, 0, 0],\n            [0, 0, 0],\n            [0, 0, 0],\n            [0, 0, 0],\n            [0, 0, 0],\n            [0, 0, 0],\n            [0, 0, 1],\n            [0, 0, 0],\n            [0, 0, 0],\n            [0, 0, 0],\n            [0, 0, 0],\n            [0, 0, 0],\n            [0, 0, 0],\n            [0, 0, 0],\n            [0, 0, 0],\n            [0, 0, 0],\n            [0, 0, 0],\n            [0, 0, 0],\n            [0, 0, 0]])"
     },
     "execution_count": 9,
     "metadata": {},
     "output_type": "execute_result"
    }
   ]
  },
  {
   "cell_type": "code",
   "execution_count": 10,
   "outputs": [
    {
     "data": {
      "text/plain": "Individual([0], dtype=int64)"
     },
     "execution_count": 10,
     "metadata": {},
     "output_type": "execute_result"
    }
   ],
   "source": [
    "def total_weight(decision_matrix: np.ndarray,  # n*m (m:number of knapsack, n: number of items)\n",
    "                 item_value: np.ndarray,  # n,\n",
    "                 item_weight: np.ndarray,  # n,\n",
    "                 joint_profit: np.ndarray,  # n*n\n",
    "                 ) -> float:\n",
    "    total_weight = 0\n",
    "    item_weight = item_value.reshape(len(item_weight), 1)\n",
    "    for k in range(decision_matrix.shape[1]):\n",
    "        kth_decision = decision_matrix[:, k]\n",
    "        total_weight += np.dot(kth_decision, item_weight)\n",
    "    return -total_weight\n",
    "total_weight(best_ind, item_value,item_weight,joint_profit)"
   ],
   "metadata": {
    "collapsed": false
   }
  },
  {
   "cell_type": "code",
   "execution_count": 18,
   "outputs": [
    {
     "name": "stdout",
     "output_type": "stream",
     "text": [
      "265\n",
      "553\n",
      "403\n"
     ]
    }
   ],
   "source": [
    "print(np.dot(best_ind[:,0],item_weight))\n",
    "print(np.dot(best_ind[:,1],item_weight))\n",
    "print(np.dot(best_ind[:,2],item_weight))"
   ],
   "metadata": {
    "collapsed": false
   }
  },
  {
   "cell_type": "code",
   "source": [
    "decision_matrix = best_ind\n",
    "total_weight = 0\n",
    "item_weight = item_value.reshape(len(item_weight), 1)\n",
    "for k in range(decision_matrix.shape[1]):\n",
    "    kth_decision = decision_matrix[:, k]\n",
    "    total_weight += np.dot(kth_decision, item_weight)\n",
    "total_weight"
   ],
   "metadata": {
    "colab": {
     "base_uri": "https://localhost:8080/"
    },
    "id": "s1-vvlFtidJL",
    "outputId": "a716e93a-05fc-489f-cad3-9ec4d7ec6ca3"
   },
   "execution_count": 21,
   "outputs": [
    {
     "data": {
      "text/plain": "Individual([0], dtype=int64)"
     },
     "execution_count": 21,
     "metadata": {},
     "output_type": "execute_result"
    }
   ]
  },
  {
   "cell_type": "code",
   "execution_count": 24,
   "outputs": [
    {
     "data": {
      "text/plain": "array([[ 0],\n       [ 0],\n       [ 0],\n       [57],\n       [60],\n       [52],\n       [ 0],\n       [ 0],\n       [ 0],\n       [ 0],\n       [98],\n       [70],\n       [88],\n       [ 0],\n       [84],\n       [ 0],\n       [ 0],\n       [68],\n       [ 0],\n       [ 0],\n       [ 0],\n       [92],\n       [ 0],\n       [ 0],\n       [94],\n       [ 0],\n       [ 0],\n       [ 0],\n       [ 0],\n       [ 0],\n       [ 0],\n       [ 0],\n       [ 0],\n       [86],\n       [26],\n       [ 0],\n       [ 0],\n       [ 0],\n       [ 0],\n       [25],\n       [78],\n       [54],\n       [24],\n       [ 0],\n       [ 0],\n       [ 0],\n       [ 0],\n       [ 0],\n       [ 0],\n       [ 0],\n       [ 0],\n       [ 0],\n       [ 0],\n       [ 0],\n       [ 0],\n       [ 0],\n       [38],\n       [37],\n       [88],\n       [ 0],\n       [ 0],\n       [ 0],\n       [ 0],\n       [ 0],\n       [ 0],\n       [ 0],\n       [ 0],\n       [ 0],\n       [ 0],\n       [ 0],\n       [24],\n       [ 0],\n       [27],\n       [ 0],\n       [87],\n       [ 0],\n       [ 0],\n       [ 0],\n       [ 0],\n       [61],\n       [ 0],\n       [40],\n       [ 0],\n       [ 0],\n       [ 0],\n       [ 0],\n       [ 0],\n       [ 0],\n       [ 0],\n       [ 0],\n       [91],\n       [ 0],\n       [84],\n       [96],\n       [ 0],\n       [ 0],\n       [ 0],\n       [ 0],\n       [ 0],\n       [52]], dtype=int64)"
     },
     "execution_count": 24,
     "metadata": {},
     "output_type": "execute_result"
    }
   ],
   "source": [
    "item_weight"
   ],
   "metadata": {
    "collapsed": false
   }
  },
  {
   "cell_type": "code",
   "execution_count": 22,
   "outputs": [
    {
     "name": "stdout",
     "output_type": "stream",
     "text": [
      "[-22.46666667  60.53333333   1.53333333]\n"
     ]
    },
    {
     "ename": "NameError",
     "evalue": "name 'random' is not defined",
     "output_type": "error",
     "traceback": [
      "\u001B[1;31m---------------------------------------------------------------------------\u001B[0m",
      "\u001B[1;31mNameError\u001B[0m                                 Traceback (most recent call last)",
      "Input \u001B[1;32mIn [22]\u001B[0m, in \u001B[0;36m<cell line: 24>\u001B[1;34m()\u001B[0m\n\u001B[0;32m     22\u001B[0m pp1 \u001B[38;5;241m=\u001B[39m pop[\u001B[38;5;241m5\u001B[39m]\u001B[38;5;241m.\u001B[39mcopy()\n\u001B[0;32m     23\u001B[0m \u001B[38;5;28mprint\u001B[39m(capacities \u001B[38;5;241m-\u001B[39m numpy\u001B[38;5;241m.\u001B[39mdot(pp1\u001B[38;5;241m.\u001B[39mT, item_weight))\n\u001B[1;32m---> 24\u001B[0m pp1 \u001B[38;5;241m=\u001B[39m \u001B[43mrandom_complete\u001B[49m\u001B[43m(\u001B[49m\u001B[43mpp1\u001B[49m\u001B[43m,\u001B[49m\u001B[43m \u001B[49m\u001B[43minstance_settings\u001B[49m\u001B[43m)\u001B[49m\n\u001B[0;32m     25\u001B[0m \u001B[38;5;28mprint\u001B[39m(capacities \u001B[38;5;241m-\u001B[39m numpy\u001B[38;5;241m.\u001B[39mdot(pp1\u001B[38;5;241m.\u001B[39mT, item_weight))\n\u001B[0;32m     26\u001B[0m \u001B[38;5;66;03m# # np.where(pp1o != pp2o)\u001B[39;00m\n",
      "Input \u001B[1;32mIn [22]\u001B[0m, in \u001B[0;36mrandom_complete\u001B[1;34m(ind, instance_settings)\u001B[0m\n\u001B[0;32m      5\u001B[0m rcapcity \u001B[38;5;241m=\u001B[39m capacities \u001B[38;5;241m-\u001B[39m numpy\u001B[38;5;241m.\u001B[39mdot(ind\u001B[38;5;241m.\u001B[39mT, item_weight)\n\u001B[0;32m      7\u001B[0m mylist \u001B[38;5;241m=\u001B[39m numpy\u001B[38;5;241m.\u001B[39mwhere(numpy\u001B[38;5;241m.\u001B[39msum(best_ind, axis\u001B[38;5;241m=\u001B[39m\u001B[38;5;241m1\u001B[39m) \u001B[38;5;241m==\u001B[39m \u001B[38;5;241m0\u001B[39m)[\u001B[38;5;241m0\u001B[39m]\n\u001B[1;32m----> 8\u001B[0m \u001B[43mrandom\u001B[49m\u001B[38;5;241m.\u001B[39mshuffle(mylist)\n\u001B[0;32m     10\u001B[0m num_knapsack \u001B[38;5;241m=\u001B[39m \u001B[38;5;28mlen\u001B[39m(ind[\u001B[38;5;241m0\u001B[39m])\n\u001B[0;32m     11\u001B[0m knapsack_list \u001B[38;5;241m=\u001B[39m \u001B[38;5;28mlist\u001B[39m(\u001B[38;5;28mrange\u001B[39m(num_knapsack))\n",
      "\u001B[1;31mNameError\u001B[0m: name 'random' is not defined"
     ]
    }
   ],
   "source": [
    "import numpy\n",
    "import random\n",
    "def random_complete(ind, instance_settings):\n",
    "    item_weight = instance_settings[1]\n",
    "    capacities = instance_settings[3]\n",
    "    rcapcity = capacities - numpy.dot(ind.T, item_weight)\n",
    "\n",
    "    mylist = numpy.where(numpy.sum(best_ind, axis=1) == 0)[0]\n",
    "    random.shuffle(mylist)\n",
    "\n",
    "    num_knapsack = len(ind[0])\n",
    "    knapsack_list = list(range(num_knapsack))\n",
    "    random.shuffle(knapsack_list)\n",
    "    for i in mylist:\n",
    "        for k in knapsack_list:\n",
    "            if item_weight[i] < rcapcity[k]:\n",
    "                ind[i] = numpy.zeros(num_knapsack)\n",
    "                ind[i, k] = 1\n",
    "                rcapcity[k] -= item_weight[i]\n",
    "                break\n",
    "    return ind\n",
    "pp1o = pop[5].copy()\n",
    "pp1 = pop[5].copy()\n",
    "print(capacities - numpy.dot(pp1.T, item_weight))\n",
    "pp1 = random_complete(pp1, instance_settings)\n",
    "print(capacities - numpy.dot(pp1.T, item_weight))\n",
    "# # np.where(pp1o != pp2o)\n",
    "np.where(pp1o != pp1)"
   ],
   "metadata": {
    "collapsed": false
   }
  },
  {
   "cell_type": "code",
   "execution_count": 370,
   "outputs": [
    {
     "ename": "RuntimeError",
     "evalue": "Serious Issue: Item in Multi Knapsack",
     "output_type": "error",
     "traceback": [
      "\u001B[1;31m---------------------------------------------------------------------------\u001B[0m",
      "\u001B[1;31mRuntimeError\u001B[0m                              Traceback (most recent call last)",
      "Input \u001B[1;32mIn [370]\u001B[0m, in \u001B[0;36m<cell line: 18>\u001B[1;34m()\u001B[0m\n\u001B[0;32m     16\u001B[0m pp1[\u001B[38;5;241m0\u001B[39m] \u001B[38;5;241m=\u001B[39m [\u001B[38;5;241m1\u001B[39m,\u001B[38;5;241m1\u001B[39m,\u001B[38;5;241m0\u001B[39m]\n\u001B[0;32m     17\u001B[0m pp1\n\u001B[1;32m---> 18\u001B[0m \u001B[43mexam_feasibility\u001B[49m\u001B[43m(\u001B[49m\u001B[43mpp1\u001B[49m\u001B[43m,\u001B[49m\u001B[43m \u001B[49m\u001B[43minstance_settings\u001B[49m\u001B[43m)\u001B[49m\n",
      "Input \u001B[1;32mIn [370]\u001B[0m, in \u001B[0;36mexam_feasibility\u001B[1;34m(individual, instance_settings)\u001B[0m\n\u001B[0;32m      1\u001B[0m \u001B[38;5;28;01mdef\u001B[39;00m \u001B[38;5;21mexam_feasibility\u001B[39m(individual, instance_settings):\n\u001B[0;32m      2\u001B[0m     \u001B[38;5;28;01mif\u001B[39;00m (numpy\u001B[38;5;241m.\u001B[39msum(individual,axis\u001B[38;5;241m=\u001B[39m\u001B[38;5;241m1\u001B[39m) \u001B[38;5;241m>\u001B[39m \u001B[38;5;241m1\u001B[39m)\u001B[38;5;241m.\u001B[39many():\n\u001B[1;32m----> 3\u001B[0m         \u001B[38;5;28;01mraise\u001B[39;00m \u001B[38;5;167;01mRuntimeError\u001B[39;00m(\u001B[38;5;124m'\u001B[39m\u001B[38;5;124mSerious Issue: Item in Multi Knapsack\u001B[39m\u001B[38;5;124m'\u001B[39m)\n\u001B[0;32m      4\u001B[0m     result \u001B[38;5;241m=\u001B[39m []\n\u001B[0;32m      5\u001B[0m     item_weight \u001B[38;5;241m=\u001B[39m instance_settings[\u001B[38;5;241m1\u001B[39m]\n",
      "\u001B[1;31mRuntimeError\u001B[0m: Serious Issue: Item in Multi Knapsack"
     ]
    }
   ],
   "source": [
    "def exam_feasibility(individual, instance_settings):\n",
    "    if (numpy.sum(individual,axis=1) > 1).any():\n",
    "        raise RuntimeError('Serious Issue: Item in Multi Knapsack')\n",
    "    result = []\n",
    "    item_weight = instance_settings[1]\n",
    "    capacities = instance_settings[3]\n",
    "    for k in range(individual.shape[1]):\n",
    "\n",
    "        kth_knapsack = individual[:, k]\n",
    "        weight = numpy.dot(kth_knapsack, item_weight)\n",
    "        if weight > capacities[k]:\n",
    "            result.append(False)\n",
    "        else:\n",
    "            result.append(True)\n",
    "    return result\n",
    "pp1[0] = [1,1,0]\n",
    "pp1\n",
    "exam_feasibility(pp1, instance_settings)"
   ],
   "metadata": {
    "collapsed": false
   }
  },
  {
   "cell_type": "code",
   "execution_count": 72,
   "outputs": [
    {
     "name": "stdout",
     "output_type": "stream",
     "text": [
      "[[13478.0]]\n",
      "[[13478.0]]\n"
     ]
    }
   ],
   "source": [
    "from deap import base\n",
    "import objfuncs as objf\n",
    "import operators as op\n",
    "ind1 = best_ind\n",
    "indo = ind1.copy()\n",
    "''' initialize population '''\n",
    "toolbox = base.Toolbox()\n",
    "toolbox.register(\"evaluate\", objf.objf_weight, objc_weight_vector=(0.5,0,0.5), instance_settings=instance_settings,\n",
    "                 punish_factor=-1000)\n",
    "ee1 = list(map(toolbox.evaluate, [ind1]))\n",
    "print(ee1)\n",
    "\n",
    "def mutLocalSearch(ind, item_weight, capacities, toolbox):\n",
    "    rcapcity = capacities - numpy.dot(ind.T, item_weight)\n",
    "    curr_obj = list(map(toolbox.evaluate, [ind]))[0][0]\n",
    "    item_num = ind.shape[0]\n",
    "    knapsack_num = ind.shape[1]\n",
    "    change_pair = [0] * op.get_combination_num(knapsack_num,2)\n",
    "    kk = 0\n",
    "    for i in range(knapsack_num):\n",
    "        for j in range(i, knapsack_num):\n",
    "            if j == i:\n",
    "                continue\n",
    "            change_pair[kk] = (i, j)\n",
    "            kk += 1\n",
    "    # If all are zero, no need to exchange\n",
    "    for i in range(item_num):\n",
    "        if sum(ind[i]) == 0:\n",
    "            continue\n",
    "        for m, n in change_pair:\n",
    "            if ind[i, m] == 0 and ind[i, n] == 0:\n",
    "                continue\n",
    "            # If it makes the instance infeasible no need to exchange\n",
    "            change_m = (- ind[i, m] + ind[i, n]) * item_weight[i]\n",
    "            change_n = (- ind[i, n] + ind[i, m]) * item_weight[i]\n",
    "            if rcapcity[m] + change_m < 0:\n",
    "                continue\n",
    "            if rcapcity[n] + change_n < 0:\n",
    "                continue\n",
    "            # if it not increases the joint_value, (maybe) no need to exchange\n",
    "            # ....\n",
    "            # Now try exchange, see if it increases the ObjValue\n",
    "            ind[i, m], ind[i, n] = ind[i, n], ind[i, m]\n",
    "            new_obj = list(map(toolbox.evaluate, [ind]))[0][0]\n",
    "            if curr_obj > new_obj:  # did not increase the ObjValue, change back\n",
    "                ind[i, m], ind[i, n] = ind[i, n], ind[i, m]\n",
    "                continue\n",
    "            curr_obj = new_obj\n",
    "            rcapcity[m] -= change_m\n",
    "            rcapcity[n] -= change_n\n",
    "    return ind\n",
    "nind = mutLocalSearch(ind1, item_weight, capacities, toolbox)\n",
    "print(list(map(toolbox.evaluate, [nind])))"
   ],
   "metadata": {
    "collapsed": false
   }
  },
  {
   "cell_type": "code",
   "execution_count": 63,
   "outputs": [
    {
     "data": {
      "text/plain": "[(0, 1), (0, 2), (1, 2)]"
     },
     "execution_count": 63,
     "metadata": {},
     "output_type": "execute_result"
    }
   ],
   "source": [
    "knapsack_num = 3\n",
    "change_pair = [0] * op.get_combination_num(knapsack_num,2)\n",
    "kk = 0\n",
    "for i in range(knapsack_num):\n",
    "    for j in range(i, knapsack_num):\n",
    "        if j == i:\n",
    "            continue\n",
    "        change_pair[kk] = (i, j)\n",
    "        kk += 1\n",
    "change_pair"
   ],
   "metadata": {
    "collapsed": false
   }
  },
  {
   "cell_type": "code",
   "execution_count": 49,
   "outputs": [
    {
     "ename": "IndexError",
     "evalue": "tuple index out of range",
     "output_type": "error",
     "traceback": [
      "\u001B[1;31m---------------------------------------------------------------------------\u001B[0m",
      "\u001B[1;31mIndexError\u001B[0m                                Traceback (most recent call last)",
      "Input \u001B[1;32mIn [49]\u001B[0m, in \u001B[0;36m<cell line: 1>\u001B[1;34m()\u001B[0m\n\u001B[1;32m----> 1\u001B[0m \u001B[38;5;28;43mlist\u001B[39;49m\u001B[43m(\u001B[49m\u001B[38;5;28;43mmap\u001B[39;49m\u001B[43m(\u001B[49m\u001B[43mtoolbox\u001B[49m\u001B[38;5;241;43m.\u001B[39;49m\u001B[43mevaluate\u001B[49m\u001B[43m,\u001B[49m\u001B[43m \u001B[49m\u001B[43mind1\u001B[49m\u001B[43m)\u001B[49m\u001B[43m)\u001B[49m\n",
      "File \u001B[1;32m~\\OneDrive - purdue.edu\\Nutshell\\Academic\\Courses\\2021-@Purdue\\IE541\\IE-541-Project\\objfuncs.py:124\u001B[0m, in \u001B[0;36mobjf_weight\u001B[1;34m(decision_matrix, objc_weight_vector, instance_settings, punish_factor)\u001B[0m\n\u001B[0;32m    122\u001B[0m \u001B[38;5;28;01mdef\u001B[39;00m \u001B[38;5;21mobjf_weight\u001B[39m(decision_matrix, objc_weight_vector, instance_settings, punish_factor\u001B[38;5;241m=\u001B[39m\u001B[38;5;241m-\u001B[39m\u001B[38;5;241m100\u001B[39m):\n\u001B[0;32m    123\u001B[0m     item_value, item_weight, joint_profit, capacities \u001B[38;5;241m=\u001B[39m instance_settings\n\u001B[1;32m--> 124\u001B[0m     obj_value_vector \u001B[38;5;241m=\u001B[39m np\u001B[38;5;241m.\u001B[39marray(\u001B[43mobjfuncs\u001B[49m\u001B[43m(\u001B[49m\u001B[43mdecision_matrix\u001B[49m\u001B[43m,\u001B[49m\u001B[43m \u001B[49m\u001B[43mitem_value\u001B[49m\u001B[43m,\u001B[49m\u001B[43m \u001B[49m\u001B[43mitem_weight\u001B[49m\u001B[43m,\u001B[49m\u001B[43m \u001B[49m\u001B[43mjoint_profit\u001B[49m\u001B[43m)\u001B[49m)\n\u001B[0;32m    125\u001B[0m     obj_value \u001B[38;5;241m=\u001B[39m np\u001B[38;5;241m.\u001B[39mdot(np\u001B[38;5;241m.\u001B[39msqueeze(obj_value_vector), objc_weight_vector)\n\u001B[0;32m    126\u001B[0m     punish_value \u001B[38;5;241m=\u001B[39m punish(decision_matrix, item_weight, capacities, punish_factor)\n",
      "File \u001B[1;32m~\\OneDrive - purdue.edu\\Nutshell\\Academic\\Courses\\2021-@Purdue\\IE541\\IE-541-Project\\objfuncs.py:111\u001B[0m, in \u001B[0;36mobjfuncs\u001B[1;34m(decision_matrix, item_value, item_weight, joint_profit)\u001B[0m\n\u001B[0;32m    109\u001B[0m item_value \u001B[38;5;241m=\u001B[39m item_value\u001B[38;5;241m.\u001B[39mreshape(\u001B[38;5;28mlen\u001B[39m(item_value), \u001B[38;5;241m1\u001B[39m)\n\u001B[0;32m    110\u001B[0m item_weight \u001B[38;5;241m=\u001B[39m item_value\u001B[38;5;241m.\u001B[39mreshape(\u001B[38;5;28mlen\u001B[39m(item_weight), \u001B[38;5;241m1\u001B[39m)\n\u001B[1;32m--> 111\u001B[0m \u001B[38;5;28;01mfor\u001B[39;00m k \u001B[38;5;129;01min\u001B[39;00m \u001B[38;5;28mrange\u001B[39m(\u001B[43mdecision_matrix\u001B[49m\u001B[38;5;241;43m.\u001B[39;49m\u001B[43mshape\u001B[49m\u001B[43m[\u001B[49m\u001B[38;5;241;43m1\u001B[39;49m\u001B[43m]\u001B[49m):\n\u001B[0;32m    112\u001B[0m     kth_decision \u001B[38;5;241m=\u001B[39m decision_matrix[:, k]  \u001B[38;5;66;03m# 1*n\u001B[39;00m\n\u001B[0;32m    113\u001B[0m     indiv_sum \u001B[38;5;241m=\u001B[39m np\u001B[38;5;241m.\u001B[39mdot(kth_decision, item_value)\n",
      "\u001B[1;31mIndexError\u001B[0m: tuple index out of range"
     ]
    }
   ],
   "source": [
    "list(map(toolbox.evaluate, ind1))"
   ],
   "metadata": {
    "collapsed": false
   }
  },
  {
   "cell_type": "code",
   "execution_count": 11,
   "outputs": [
    {
     "name": "stdout",
     "output_type": "stream",
     "text": [
      "[1, 2, 3]\n",
      "[1, 2, 3]\n",
      "[1, 2, 3]\n",
      "[11, 12, 13]\n"
     ]
    }
   ],
   "source": [
    "l = [1, 2, 3]\n",
    "l1 = []\n",
    "for i in l:\n",
    "    print(l)\n",
    "    l1.append(i + 10)\n",
    "def inc(x):\n",
    "    return x + 10\n",
    "print(list(map(inc, l)))"
   ],
   "metadata": {
    "collapsed": false
   }
  },
  {
   "cell_type": "code",
   "execution_count": 66,
   "outputs": [
    {
     "ename": "TypeError",
     "evalue": "len() takes exactly one argument (2 given)",
     "output_type": "error",
     "traceback": [
      "\u001B[1;31m---------------------------------------------------------------------------\u001B[0m",
      "\u001B[1;31mTypeError\u001B[0m                                 Traceback (most recent call last)",
      "Input \u001B[1;32mIn [66]\u001B[0m, in \u001B[0;36m<cell line: 6>\u001B[1;34m()\u001B[0m\n\u001B[0;32m      3\u001B[0m mylist \u001B[38;5;241m=\u001B[39m np\u001B[38;5;241m.\u001B[39mwhere(np\u001B[38;5;241m.\u001B[39msum(best_ind,axis\u001B[38;5;241m=\u001B[39m\u001B[38;5;241m1\u001B[39m) \u001B[38;5;241m==\u001B[39m \u001B[38;5;241m0\u001B[39m)[\u001B[38;5;241m0\u001B[39m]\n\u001B[0;32m      4\u001B[0m random\u001B[38;5;241m.\u001B[39mshuffle(mylist)\n\u001B[1;32m----> 6\u001B[0m \u001B[38;5;28mprint\u001B[39m(mylist[\u001B[38;5;241m0\u001B[39m:\u001B[38;5;28mmax\u001B[39m(\u001B[38;5;28;43mlen\u001B[39;49m\u001B[43m(\u001B[49m\u001B[43mmylist\u001B[49m\u001B[43m,\u001B[49m\u001B[38;5;241;43m10\u001B[39;49m\u001B[43m)\u001B[49m)])\n",
      "\u001B[1;31mTypeError\u001B[0m: len() takes exactly one argument (2 given)"
     ]
    }
   ],
   "source": [
    "import random\n",
    "\n",
    "mylist = np.where(np.sum(best_ind,axis=1) == 0)[0]\n",
    "random.shuffle(mylist)\n",
    "\n",
    "print(mylist[0:max(len(mylist,10))])\n"
   ],
   "metadata": {
    "collapsed": false
   }
  },
  {
   "cell_type": "code",
   "execution_count": 75,
   "outputs": [
    {
     "name": "stdout",
     "output_type": "stream",
     "text": [
      "[0 0 1]\n",
      "[0 0 1]\n"
     ]
    }
   ],
   "source": [
    "print(best_ind[0])\n",
    "best_ind[0,2] = 1\n",
    "print(best_ind[0])"
   ],
   "metadata": {
    "collapsed": false
   }
  },
  {
   "cell_type": "code",
   "execution_count": 80,
   "outputs": [
    {
     "data": {
      "text/plain": "array([[0., 0., 0.],\n       [0., 2., 0.]])"
     },
     "execution_count": 80,
     "metadata": {},
     "output_type": "execute_result"
    }
   ],
   "source": [
    "aa = np.zeros((2,3))\n",
    "aa\n",
    "aa[1][1]=2\n",
    "aa"
   ],
   "metadata": {
    "collapsed": false
   }
  },
  {
   "cell_type": "code",
   "source": [
    "evolution_general_parameters = (100, 0.1, 0.1, 200)\n",
    "evolution_specify_parameters = (0.5, 0.25, 200, 100)\n",
    "best_ind,pop,num_gen = ea.perform_GA_base(1, instance_settings, evolution_general_parameters, evolution_specify_parameters, PRINT=False)\n",
    "best_ind.fitness.values"
   ],
   "metadata": {
    "id": "Awz7sYRU_KDj",
    "colab": {
     "base_uri": "https://localhost:8080/"
    },
    "outputId": "eb637c2d-cfaf-4449-b679-1c3ad2cc65f8"
   },
   "execution_count": 5,
   "outputs": [
    {
     "output_type": "stream",
     "name": "stderr",
     "text": [
      "/usr/local/lib/python3.7/dist-packages/deap/creator.py:141: RuntimeWarning: A class named 'FitnessMax' has already been created and it will be overwritten. Consider deleting previous creation of that class or rename it.\n",
      "  RuntimeWarning)\n",
      "/usr/local/lib/python3.7/dist-packages/deap/creator.py:141: RuntimeWarning: A class named 'Individual' has already been created and it will be overwritten. Consider deleting previous creation of that class or rename it.\n",
      "  RuntimeWarning)\n"
     ]
    },
    {
     "output_type": "execute_result",
     "data": {
      "text/plain": [
       "(15025.0,)"
      ]
     },
     "metadata": {},
     "execution_count": 5
    }
   ]
  },
  {
   "cell_type": "code",
   "source": [
    "# def exam_feasibility(individual, instance_settings):\n",
    "#   result = []\n",
    "#   item_weight = instance_settings[1]\n",
    "#   capacities = instance_settings[3]\n",
    "#   for k in range(individual.shape[1]):\n",
    "#     kth_knapsack = individual[:,k]\n",
    "#     weight = np.dot(kth_knapsack, item_weight)\n",
    "#     if weight > capacities[k]:\n",
    "#       result.append(False) ## exceed the weight limitation, infeasible\n",
    "#     else:\n",
    "#       result.append(True) ## feasible\n",
    "#   return result\n",
    "#   # return True means feasible, \n",
    "ea.exam_feasibility(best_ind, instance_settings)    "
   ],
   "metadata": {
    "colab": {
     "base_uri": "https://localhost:8080/"
    },
    "id": "kVlwlKZBkkse",
    "outputId": "e668f513-f0d9-48bf-ac28-da1c5008541e"
   },
   "execution_count": 8,
   "outputs": [
    {
     "output_type": "execute_result",
     "data": {
      "text/plain": [
       "[True, True, True, True, True]"
      ]
     },
     "metadata": {},
     "execution_count": 8
    }
   ]
  },
  {
   "cell_type": "markdown",
   "source": [
    "Since above naive GA amazingly always produce feasibile solution, I want to verify my implementation of `exam_feasibility`. The exam below shows my implementation of `exam_feasibility` is correct."
   ],
   "metadata": {
    "id": "LLFws_fbDLCY"
   }
  },
  {
   "cell_type": "code",
   "source": [
    "def exam_feasibility(individual, item_weight, capacities):\n",
    "  result = []\n",
    "  for k in range(individual.shape[1]):\n",
    "    kth_knapsack = individual[:,k]\n",
    "    weight = np.dot(kth_knapsack, item_weight)\n",
    "    if weight > capacities[k]:\n",
    "      result.append(False) ## exceed the weight limitation, infeasible\n",
    "    else:\n",
    "      result.append(True) ## feasible\n",
    "  return result\n",
    "  # return True means feasible, \n",
    "\n",
    "ind = np.array([[0,0,0],[0,1,0],[1,0,1]]).T # Note: in individual, every column is a decision vector of \n",
    "weight = np.array([20,30,40])\n",
    "caps = (30,30,30)\n",
    "exam_feasibility(ind,weight,caps)"
   ],
   "metadata": {
    "id": "cXClf-nrBQBR"
   },
   "execution_count": null,
   "outputs": []
  },
  {
   "cell_type": "code",
   "source": [
    "#Output the best individual as .csv file\n",
    "import pandas as pd\n",
    "df_best_ind = pd.DataFrame(best_ind.T)\n",
    "df_best_ind.to_csv(\"/content/best_ind.csv\")"
   ],
   "metadata": {
    "id": "11X38nC6KHja"
   },
   "execution_count": null,
   "outputs": []
  }
 ]
}
