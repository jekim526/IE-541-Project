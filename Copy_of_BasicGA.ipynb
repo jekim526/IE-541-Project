{
  "nbformat": 4,
  "nbformat_minor": 0,
  "metadata": {
    "colab": {
      "provenance": [],
      "include_colab_link": true
    },
    "kernelspec": {
      "name": "python3",
      "display_name": "Python 3"
    },
    "language_info": {
      "name": "python"
    }
  },
  "cells": [
    {
      "cell_type": "markdown",
      "metadata": {
        "id": "view-in-github",
        "colab_type": "text"
      },
      "source": [
        "<a href=\"https://colab.research.google.com/github/jekim526/IE-541-Project/blob/Parsing_Test/Copy_of_BasicGA.ipynb\" target=\"_parent\"><img src=\"https://colab.research.google.com/assets/colab-badge.svg\" alt=\"Open In Colab\"/></a>"
      ]
    },
    {
      "cell_type": "markdown",
      "source": [
        "# Initialize\n",
        "Load problem data, install packages"
      ],
      "metadata": {
        "id": "5TOeWB8Y_ead"
      }
    },
    {
      "cell_type": "code",
      "source": [
        "# Some more magic so that the notebook will reload external python modules;\n",
        "# see http://stackoverflow.com/questions/1907993/autoreload-of-modules-in-ipython\n",
        "%load_ext autoreload\n",
        "%autoreload 2\n",
        "!pip install deap\n",
        "!git clone https://github.com/jekim526/IE-541-Project.git\n",
        "!git --git-dir=/content/IE-541-Project/.git pull\n",
        "import pandas as pd\n",
        "import numpy as np\n",
        "import sys\n",
        "sys.path.append(\"..\")\n",
        "sys.path.append('/content/IE-541-Project')\n",
        "import knapsack_EA_functions as ea"
      ],
      "metadata": {
        "colab": {
          "base_uri": "https://localhost:8080/"
        },
        "id": "DSKRw_MfIZQT",
        "outputId": "9266d5df-ca98-4e82-9cf0-2b256972b38f"
      },
      "execution_count": 2,
      "outputs": [
        {
          "output_type": "stream",
          "name": "stdout",
          "text": [
            "The autoreload extension is already loaded. To reload it, use:\n",
            "  %reload_ext autoreload\n",
            "Looking in indexes: https://pypi.org/simple, https://us-python.pkg.dev/colab-wheels/public/simple/\n",
            "Requirement already satisfied: deap in /usr/local/lib/python3.8/dist-packages (1.3.3)\n",
            "Requirement already satisfied: numpy in /usr/local/lib/python3.8/dist-packages (from deap) (1.21.6)\n",
            "fatal: destination path 'IE-541-Project' already exists and is not an empty directory.\n",
            "Already up to date.\n"
          ]
        }
      ]
    },
    {
      "cell_type": "code",
      "execution_count": 3,
      "metadata": {
        "id": "6I9Vouek_K7z"
      },
      "outputs": [],
      "source": [
        "url = 'https://raw.githubusercontent.com/jekim526/IE-541-Project/main/data/Z_r_100_25_1.csv' # Get the \"Raw\" link\n",
        "df1_o = pd.read_csv(url)\n",
        "df1 = pd.DataFrame(df1_o).to_numpy() # DataFrame to nummpy array\n",
        "n_size = len(df1) - 1\n",
        "\n",
        "# Array of item value\n",
        "item_value = [0] * n_size\n",
        "for x in range(0,n_size):\n",
        "  item_value[x] = df1[1,x+1]\n",
        "\n",
        "# Array of item weight\n",
        "item_weight = [0] * n_size\n",
        "for x in range(0,n_size):\n",
        "  item_weight[x] = df1[0,x+1]\n",
        "\n",
        "# n x n array of joint profit\n",
        "joint_profit = np.zeros((n_size,n_size))\n",
        "for x in range(0, n_size-1):\n",
        "  for y in range(0, n_size):\n",
        "    joint_profit[x,y] = df1[x+2,y+1]\n",
        "\n",
        "item_weight = np.array(item_weight)\n",
        "item_value = np.array(item_value)"
      ]
    },
    {
      "cell_type": "markdown",
      "source": [
        "## Prepare the GA input and solve the instance via GA"
      ],
      "metadata": {
        "id": "zyYih-zKD6V8"
      }
    },
    {
      "cell_type": "code",
      "source": [
        "# -------  NOTES: ------------------------------------------------------------------------------\n",
        "# instance_setings should be a tuple contains:\n",
        "# {item_value, item_weight, joint_profit, capacities}\n",
        "#                 capacities = {capacity1, capacity2, ...}\n",
        "#\n",
        "# evolution_general_parameters should be a tuple contains:\n",
        "# {popsize, swap_prob, mute_prob, penalty}, in which:\n",
        "#    swap_prob is independent probability for swap at each point in uniform crossover.\n",
        "#    mute_prob is independent probability for each attribute to be flipped in flip-bit mutation.\n",
        "#    penalty is exit of the weight. \n",
        "#\n",
        "# evolution_specify_parameters should be a tuple contains: {CXPB, MUTPB},In which:\n",
        "#    CXPB is the probability with which two individuals\n",
        "#          are crossed\n",
        "#    MUTPB is the probability for mutating an individual\n",
        "#    MAX_GEN is the maximum generation threshold\n",
        "#    STOP_GEN is the threshold of no progress generations\n",
        "\n",
        "''' the maximize covalue_case '''\n",
        "max_c = 0; max_c = max(max_c,max(np.sum(joint_profit,axis = 1))); max_c = max(max_c,max(np.sum(joint_profit,axis = 0)))\n",
        "max_i = max(item_value)\n",
        "\n",
        "''' prepare this solver inputs: '''\n",
        "#initialize evolution parameter setting\n",
        "evolution_general_parameters = (100, 0.1, 0.1, max_i + max_c)\n",
        "evolution_specify_parameters = (0.5, 0.25, 1000, 100)\n",
        "num_of_knapsack = 3\n",
        "capacity = (sum(item_weight)/num_of_knapsack)*0.8 # 80% of the sum of all item weights divided by the number of knapsacks\n",
        "capacities = (capacity,)*num_of_knapsack\n",
        "#initialize instance setting\n",
        "instance_settings = (item_value, item_weight, joint_profit, capacities)"
      ],
      "metadata": {
        "id": "cgbXLxZv_rJK"
      },
      "execution_count": 4,
      "outputs": []
    },
    {
      "cell_type": "code",
      "source": [
        "''' solve via GA in one line! ''' \n",
        "#objf_type: \n",
        "# 1: the first objective function (maximum the total profit)\n",
        "# 2: maximum the negative of total_weight\n",
        "# 3: maximum the profit of the package with minmum of profit\n",
        "\n",
        "#best_ind,pop,num_gen = ea.perform_GA_base(1, instance_settings, evolution_general_parameters, evolution_specify_parameters, PRINT=False)\n",
        "\n",
        "best_ind1,pop,num_gen = ea.perform_GA_base(1, instance_settings, evolution_general_parameters, evolution_specify_parameters, PRINT=False)\n",
        "best_ind2,pop,num_gen = ea.perform_GA_base(2, instance_settings, evolution_general_parameters, evolution_specify_parameters, PRINT=False)\n",
        "best_ind3,pop,num_gen = ea.perform_GA_base(3, instance_settings, evolution_general_parameters, evolution_specify_parameters, PRINT=False)\n",
        "best_ind1.fitness.values\n",
        "best_ind2.fitness.values\n",
        "best_ind3.fitness.values\n",
        "print(best_ind1.fitness.values)\n",
        "print(best_ind2.fitness.values)\n",
        "print(best_ind3.fitness.values)"
      ],
      "metadata": {
        "colab": {
          "base_uri": "https://localhost:8080/"
        },
        "id": "_BjGFdl8CHWD",
        "outputId": "c5c58f21-4edb-4b4e-981d-0af06846301f"
      },
      "execution_count": 12,
      "outputs": [
        {
          "output_type": "stream",
          "name": "stderr",
          "text": [
            "/usr/local/lib/python3.8/dist-packages/deap/creator.py:138: RuntimeWarning: A class named 'FitnessMax' has already been created and it will be overwritten. Consider deleting previous creation of that class or rename it.\n",
            "  warnings.warn(\"A class named '{0}' has already been created and it \"\n",
            "/usr/local/lib/python3.8/dist-packages/deap/creator.py:138: RuntimeWarning: A class named 'Individual' has already been created and it will be overwritten. Consider deleting previous creation of that class or rename it.\n",
            "  warnings.warn(\"A class named '{0}' has already been created and it \"\n"
          ]
        },
        {
          "output_type": "stream",
          "name": "stdout",
          "text": [
            "(22668.0,)\n",
            "(0.0,)\n",
            "(6645.0,)\n"
          ]
        }
      ]
    },
    {
      "cell_type": "code",
      "source": [
        "#Output the best individual as .csv file\n",
        "import pandas as pd\n",
        "\n",
        "# Find out which knapsack is each individual going\n",
        "ind_knap_location1 = [0] * len(best_ind1)\n",
        "ind_knap_location2 = [0] * len(best_ind2)\n",
        "ind_knap_location3 = [0] * len(best_ind3)\n",
        "\n",
        "for x in range(0, len(best_ind1)):\n",
        "  i = 1\n",
        "  if i in best_ind1[x]:\n",
        "    ind_knap_location1[x] = tuple(best_ind1[x]).index(1) + 1\n",
        "  else:\n",
        "    ind_knap_location1[x] = 0\n",
        "\n",
        "for x in range(0, len(best_ind2)):\n",
        "  i = 1\n",
        "  if i in best_ind2[x]:\n",
        "    ind_knap_location2[x] = tuple(best_ind2[x]).index(1) + 1\n",
        "  else:\n",
        "    ind_knap_location2[x] = 0\n",
        "\n",
        "for x in range(0, len(best_ind3)):\n",
        "  i = 1\n",
        "  if i in best_ind3[x]:\n",
        "    ind_knap_location3[x] = tuple(best_ind3[x]).index(1) + 1\n",
        "  else:\n",
        "    ind_knap_location3[x] = 0\n",
        "\n",
        "locations ={\n",
        "    tuple(ind_knap_location1),\n",
        "    tuple(ind_knap_location2),\n",
        "    tuple(ind_knap_location3)\n",
        "}\n",
        "\n",
        "df_location = pd.DataFrame(locations)\n",
        "instance_name = \"Z_r_100_25_1\"\n",
        "data_function = [(instance_name, 1 ,num_of_knapsack),(instance_name, 2, num_of_knapsack),(instance_name, 3, num_of_knapsack)]\n",
        "\n",
        "df_info = pd.DataFrame(data_function)\n",
        "df_info = df_info.T\n",
        "\n",
        "df_for_analysis = df_info.append(df_location.T, ignore_index = True)\n",
        "df_for_analysis.to_csv(\"/content/for_analysis_\"+instance_name+\".csv\")\n"
      ],
      "metadata": {
        "id": "11X38nC6KHja"
      },
      "execution_count": 11,
      "outputs": []
    }
  ]
}